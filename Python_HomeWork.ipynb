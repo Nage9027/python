{
 "cells": [
  {
   "cell_type": "code",
   "execution_count": 1,
   "id": "9bef953d-46cd-4398-be55-574e76e28511",
   "metadata": {},
   "outputs": [
    {
     "data": {
      "text/plain": [
       "10"
      ]
     },
     "execution_count": 1,
     "metadata": {},
     "output_type": "execute_result"
    }
   ],
   "source": [
    "x = 10\n",
    "x"
   ]
  },
  {
   "cell_type": "code",
   "execution_count": 2,
   "id": "8885688a-8b69-4a73-a52b-25f8a4b6a995",
   "metadata": {},
   "outputs": [
    {
     "data": {
      "text/plain": [
       "10"
      ]
     },
     "execution_count": 2,
     "metadata": {},
     "output_type": "execute_result"
    }
   ],
   "source": [
    "x = 10\n",
    "_\n"
   ]
  },
  {
   "cell_type": "code",
   "execution_count": 3,
   "id": "3e41c118-f6a0-4d24-9a7f-eab6a0282a54",
   "metadata": {},
   "outputs": [],
   "source": [
    "a, b, c, d = 10, 20, 30, 40\n"
   ]
  },
  {
   "cell_type": "code",
   "execution_count": 4,
   "id": "eab5ef28-d06b-4c05-8884-35e6d0d9c62c",
   "metadata": {},
   "outputs": [
    {
     "data": {
      "text/plain": [
       "20"
      ]
     },
     "execution_count": 4,
     "metadata": {},
     "output_type": "execute_result"
    }
   ],
   "source": [
    "b"
   ]
  },
  {
   "cell_type": "code",
   "execution_count": 5,
   "id": "c180ad2b-d08d-4a0d-ada1-75c34601d01e",
   "metadata": {},
   "outputs": [
    {
     "data": {
      "text/plain": [
       "40"
      ]
     },
     "execution_count": 5,
     "metadata": {},
     "output_type": "execute_result"
    }
   ],
   "source": [
    "d"
   ]
  },
  {
   "cell_type": "code",
   "execution_count": 6,
   "id": "8af5b73c-c189-4269-9201-ee4fbb9e5d26",
   "metadata": {},
   "outputs": [
    {
     "data": {
      "text/plain": [
       "bool"
      ]
     },
     "execution_count": 6,
     "metadata": {},
     "output_type": "execute_result"
    }
   ],
   "source": [
    "a = True\n",
    "type(a)\n"
   ]
  },
  {
   "cell_type": "code",
   "execution_count": 7,
   "id": "9168d3e9-91c4-4016-a676-6c601988315c",
   "metadata": {},
   "outputs": [
    {
     "data": {
      "text/plain": [
       "int"
      ]
     },
     "execution_count": 7,
     "metadata": {},
     "output_type": "execute_result"
    }
   ],
   "source": [
    "b = 99\n",
    "type(b)\n"
   ]
  },
  {
   "cell_type": "code",
   "execution_count": 8,
   "id": "c86c931f-31e6-4c8a-b192-f1b3317a431e",
   "metadata": {},
   "outputs": [
    {
     "data": {
      "text/plain": [
       "float"
      ]
     },
     "execution_count": 8,
     "metadata": {},
     "output_type": "execute_result"
    }
   ],
   "source": [
    "type(0.99)\n"
   ]
  },
  {
   "cell_type": "code",
   "execution_count": 9,
   "id": "f911ad2d-e130-4a32-b812-821a2ade39ea",
   "metadata": {},
   "outputs": [
    {
     "name": "stdout",
     "output_type": "stream",
     "text": [
      "99.0\n"
     ]
    }
   ],
   "source": [
    "b = 99\n",
    "b = float(b)\n",
    "print(b)\n"
   ]
  },
  {
   "cell_type": "code",
   "execution_count": 10,
   "id": "72fc7589-13d5-49c5-b72d-e1e4748bb183",
   "metadata": {},
   "outputs": [
    {
     "data": {
      "text/plain": [
       "0"
      ]
     },
     "execution_count": 10,
     "metadata": {},
     "output_type": "execute_result"
    }
   ],
   "source": [
    "int(0.99)\n"
   ]
  },
  {
   "cell_type": "code",
   "execution_count": 11,
   "id": "67487956-c98d-4e37-8cc4-447495bf74c2",
   "metadata": {},
   "outputs": [
    {
     "data": {
      "text/plain": [
       "'100 days'"
      ]
     },
     "execution_count": 11,
     "metadata": {},
     "output_type": "execute_result"
    }
   ],
   "source": [
    "m = 100\n",
    "str(m) + \" days\"\n",
    "f\"{m} days\"\n",
    "\"{} days\".format(m)\n",
    "\"%d days\" % m\n"
   ]
  },
  {
   "cell_type": "code",
   "execution_count": 12,
   "id": "d2dbd6c9-6f88-4948-b233-56830d9c36cf",
   "metadata": {
    "scrolled": true
   },
   "outputs": [
    {
     "name": "stdout",
     "output_type": "stream",
     "text": [
      "It's cool, isn't it?\n"
     ]
    }
   ],
   "source": [
    "print(\"It's cool, isn't it?\")\n"
   ]
  },
  {
   "cell_type": "code",
   "execution_count": 13,
   "id": "53188f46-e138-4f72-92f4-ecea74a6775b",
   "metadata": {},
   "outputs": [
    {
     "name": "stdout",
     "output_type": "stream",
     "text": [
      "Don't be shy\n"
     ]
    }
   ],
   "source": [
    "print(\"Don't be shy\")\n"
   ]
  },
  {
   "cell_type": "code",
   "execution_count": 14,
   "id": "8bb6f899-4271-48a7-ad16-991c0089a30d",
   "metadata": {},
   "outputs": [
    {
     "name": "stdout",
     "output_type": "stream",
     "text": [
      "Click \"OK\"\n"
     ]
    }
   ],
   "source": [
    "print('Click \"OK\"')"
   ]
  },
  {
   "cell_type": "code",
   "execution_count": 15,
   "id": "02273647-9636-48c0-8160-544878322c5c",
   "metadata": {},
   "outputs": [
    {
     "name": "stdout",
     "output_type": "stream",
     "text": [
      "Big Houses,"
     ]
    }
   ],
   "source": [
    "print(\"Big Houses\", end=\",\")"
   ]
  },
  {
   "cell_type": "code",
   "execution_count": 16,
   "id": "7ab6bf8f-0834-4838-a830-600702a2d9e3",
   "metadata": {},
   "outputs": [
    {
     "data": {
      "text/plain": [
       "38"
      ]
     },
     "execution_count": 16,
     "metadata": {},
     "output_type": "execute_result"
    }
   ],
   "source": [
    "15 + 23"
   ]
  },
  {
   "cell_type": "code",
   "execution_count": 17,
   "id": "7f017877-ff8b-48ae-bb09-c2e0c788ccc1",
   "metadata": {},
   "outputs": [
    {
     "data": {
      "text/plain": [
       "-24"
      ]
     },
     "execution_count": 17,
     "metadata": {},
     "output_type": "execute_result"
    }
   ],
   "source": [
    "26 - 50"
   ]
  },
  {
   "cell_type": "code",
   "execution_count": 18,
   "id": "9e982e7a-2109-45a7-acb3-a0c700ee2012",
   "metadata": {},
   "outputs": [
    {
     "data": {
      "text/plain": [
       "5.0"
      ]
     },
     "execution_count": 18,
     "metadata": {},
     "output_type": "execute_result"
    }
   ],
   "source": [
    "20 / 4\n"
   ]
  },
  {
   "cell_type": "code",
   "execution_count": 19,
   "id": "a5e65c5c-e95e-4dc7-825a-b16b03ee2185",
   "metadata": {},
   "outputs": [
    {
     "data": {
      "text/plain": [
       "5.5"
      ]
     },
     "execution_count": 19,
     "metadata": {},
     "output_type": "execute_result"
    }
   ],
   "source": [
    "22 / 4\n"
   ]
  },
  {
   "cell_type": "code",
   "execution_count": 20,
   "id": "34f61214-6331-47a3-af88-a9dcbb0b5867",
   "metadata": {},
   "outputs": [
    {
     "data": {
      "text/plain": [
       "2"
      ]
     },
     "execution_count": 20,
     "metadata": {},
     "output_type": "execute_result"
    }
   ],
   "source": [
    "22 % 4\n"
   ]
  },
  {
   "cell_type": "code",
   "execution_count": 21,
   "id": "5981ad59-c677-4a94-bb15-f08a3ca763ae",
   "metadata": {},
   "outputs": [
    {
     "data": {
      "text/plain": [
       "5.5"
      ]
     },
     "execution_count": 21,
     "metadata": {},
     "output_type": "execute_result"
    }
   ],
   "source": [
    "22.0 / 4\n"
   ]
  },
  {
   "cell_type": "code",
   "execution_count": 22,
   "id": "ede5238d-a18a-4558-924c-60eaa05076d1",
   "metadata": {},
   "outputs": [
    {
     "data": {
      "text/plain": [
       "48"
      ]
     },
     "execution_count": 22,
     "metadata": {},
     "output_type": "execute_result"
    }
   ],
   "source": [
    "6 * 8\n"
   ]
  },
  {
   "cell_type": "code",
   "execution_count": 23,
   "id": "a4c160fd-2097-4edf-8cd6-c9894ce34d42",
   "metadata": {},
   "outputs": [
    {
     "data": {
      "text/plain": [
       "225"
      ]
     },
     "execution_count": 23,
     "metadata": {},
     "output_type": "execute_result"
    }
   ],
   "source": [
    "15 ** 2\n"
   ]
  },
  {
   "cell_type": "code",
   "execution_count": 24,
   "id": "d0c72c2d-57de-45ce-9744-879a2d8f0bb7",
   "metadata": {},
   "outputs": [
    {
     "data": {
      "text/plain": [
       "False"
      ]
     },
     "execution_count": 24,
     "metadata": {},
     "output_type": "execute_result"
    }
   ],
   "source": [
    "100 == 98\n"
   ]
  },
  {
   "cell_type": "code",
   "execution_count": 127,
   "id": "48192b51-7b5b-4dee-a6ba-1258101dabb4",
   "metadata": {},
   "outputs": [],
   "source": [
    "p = 14"
   ]
  },
  {
   "cell_type": "code",
   "execution_count": 26,
   "id": "8f0c1f71-c1fa-42a1-827e-012b46fc28f8",
   "metadata": {},
   "outputs": [],
   "source": [
    "p = 14"
   ]
  },
  {
   "cell_type": "code",
   "execution_count": 27,
   "id": "527feb11-89fd-4586-b319-bc8ebfe8da15",
   "metadata": {},
   "outputs": [
    {
     "data": {
      "text/plain": [
       "24"
      ]
     },
     "execution_count": 27,
     "metadata": {},
     "output_type": "execute_result"
    }
   ],
   "source": [
    "p = 14\n",
    "p + 10\n"
   ]
  },
  {
   "cell_type": "code",
   "execution_count": 28,
   "id": "0c86fa21-7b53-4783-b411-7b26bdf93a3c",
   "metadata": {},
   "outputs": [],
   "source": [
    "p = 30\n"
   ]
  },
  {
   "cell_type": "code",
   "execution_count": 29,
   "id": "32c9fd87-51a1-4d0e-aa81-ca60815e3bc0",
   "metadata": {},
   "outputs": [
    {
     "data": {
      "text/plain": [
       "40"
      ]
     },
     "execution_count": 29,
     "metadata": {},
     "output_type": "execute_result"
    }
   ],
   "source": [
    "p + 10\n"
   ]
  },
  {
   "cell_type": "code",
   "execution_count": 30,
   "id": "2c58710f-033e-42f1-9a3e-af45ab97170a",
   "metadata": {},
   "outputs": [
    {
     "data": {
      "text/plain": [
       "20"
      ]
     },
     "execution_count": 30,
     "metadata": {},
     "output_type": "execute_result"
    }
   ],
   "source": [
    "15 + 31 \\\n",
    "- 26\n"
   ]
  },
  {
   "cell_type": "code",
   "execution_count": 31,
   "id": "8c803657-7fe9-4a4b-9656-416ee89c764e",
   "metadata": {},
   "outputs": [
    {
     "data": {
      "text/plain": [
       "'B'"
      ]
     },
     "execution_count": 31,
     "metadata": {},
     "output_type": "execute_result"
    }
   ],
   "source": [
    "\"Bingo!\"[0]  # Extracting 'B'\n"
   ]
  },
  {
   "cell_type": "code",
   "execution_count": 32,
   "id": "4121e22f-3eb9-4225-bfc8-8c131c8a39a3",
   "metadata": {},
   "outputs": [
    {
     "data": {
      "text/plain": [
       "'n'"
      ]
     },
     "execution_count": 32,
     "metadata": {},
     "output_type": "execute_result"
    }
   ],
   "source": [
    "\"Constitution\"[2]  # Extracting 'u'\n"
   ]
  },
  {
   "cell_type": "code",
   "execution_count": 33,
   "id": "08b0bbeb-396c-4cd9-852f-d0c628dd1295",
   "metadata": {},
   "outputs": [
    {
     "name": "stdout",
     "output_type": "stream",
     "text": [
      "10\n"
     ]
    }
   ],
   "source": [
    "def ten(x):\n",
    "    x = 10\n",
    "    return x\n",
    "\n",
    "result = ten(3)\n",
    "print(result)\n"
   ]
  },
  {
   "cell_type": "code",
   "execution_count": 34,
   "id": "aa236484-4919-47d7-81ae-72af73a5cf2b",
   "metadata": {},
   "outputs": [
    {
     "data": {
      "text/plain": [
       "True"
      ]
     },
     "execution_count": 34,
     "metadata": {},
     "output_type": "execute_result"
    }
   ],
   "source": [
    "25 < 30\n"
   ]
  },
  {
   "cell_type": "code",
   "execution_count": 35,
   "id": "6e523fc3-4558-4991-bc54-a71ea74f9f1f",
   "metadata": {},
   "outputs": [
    {
     "data": {
      "text/plain": [
       "True"
      ]
     },
     "execution_count": 35,
     "metadata": {},
     "output_type": "execute_result"
    }
   ],
   "source": [
    "5 * 3 <= 5 ** 3\n"
   ]
  },
  {
   "cell_type": "code",
   "execution_count": 36,
   "id": "bbc7106c-5f10-4350-a75f-8f55082ad1e5",
   "metadata": {},
   "outputs": [
    {
     "data": {
      "text/plain": [
       "True"
      ]
     },
     "execution_count": 36,
     "metadata": {},
     "output_type": "execute_result"
    }
   ],
   "source": [
    "100 == 10 ** 2\n"
   ]
  },
  {
   "cell_type": "code",
   "execution_count": 37,
   "id": "99dd0473-a0f8-4745-8446-99d2c0dd9e81",
   "metadata": {},
   "outputs": [
    {
     "data": {
      "text/plain": [
       "True"
      ]
     },
     "execution_count": 37,
     "metadata": {},
     "output_type": "execute_result"
    }
   ],
   "source": [
    "53 != 46\n"
   ]
  },
  {
   "cell_type": "code",
   "execution_count": 38,
   "id": "90231067-1895-4a8c-bb89-cef6ca8e3645",
   "metadata": {},
   "outputs": [
    {
     "data": {
      "text/plain": [
       "False"
      ]
     },
     "execution_count": 38,
     "metadata": {},
     "output_type": "execute_result"
    }
   ],
   "source": [
    "False or not True and not False  # Evaluates to False\n"
   ]
  },
  {
   "cell_type": "code",
   "execution_count": 39,
   "id": "4a4a982f-e4c7-4f1b-8f30-34e88bdfe1ff",
   "metadata": {},
   "outputs": [
    {
     "data": {
      "text/plain": [
       "True"
      ]
     },
     "execution_count": 39,
     "metadata": {},
     "output_type": "execute_result"
    }
   ],
   "source": [
    "True and not False and True or not False  # Evaluates to True\n"
   ]
  },
  {
   "cell_type": "code",
   "execution_count": 40,
   "id": "6fec463c-7ad3-43bd-a06a-86bedea45387",
   "metadata": {},
   "outputs": [
    {
     "data": {
      "text/plain": [
       "True"
      ]
     },
     "execution_count": 40,
     "metadata": {},
     "output_type": "execute_result"
    }
   ],
   "source": [
    "True or False and False  # Evaluates to True\n"
   ]
  },
  {
   "cell_type": "code",
   "execution_count": 41,
   "id": "dd6fcd57-23b8-434a-b1dd-c64f171f6201",
   "metadata": {},
   "outputs": [
    {
     "data": {
      "text/plain": [
       "False"
      ]
     },
     "execution_count": 41,
     "metadata": {},
     "output_type": "execute_result"
    }
   ],
   "source": [
    "False and True or False  # Evaluates to False\n"
   ]
  },
  {
   "cell_type": "code",
   "execution_count": 126,
   "id": "72c7bf0d-9793-4858-9b11-7be1cc3159e3",
   "metadata": {},
   "outputs": [
    {
     "name": "stdout",
     "output_type": "stream",
     "text": [
      "True\n"
     ]
    }
   ],
   "source": [
    "result = 10 != 12\n",
    "print(result)"
   ]
  },
  {
   "cell_type": "code",
   "execution_count": 125,
   "id": "f84ca3fa-d925-4bcf-ab4a-bbbf4d24c8b6",
   "metadata": {},
   "outputs": [
    {
     "name": "stdout",
     "output_type": "stream",
     "text": [
      "True\n"
     ]
    }
   ],
   "source": [
    "# 50 is 50\n",
    "result = 50 == 50\n",
    "print(result)"
   ]
  },
  {
   "cell_type": "code",
   "execution_count": 44,
   "id": "12f7ae24-6e8c-46aa-b90b-8baba02ce8ab",
   "metadata": {},
   "outputs": [
    {
     "name": "stdout",
     "output_type": "stream",
     "text": [
      "The condition has been satisfied\n"
     ]
    }
   ],
   "source": [
    "if 5 > 2:\n",
    "    print(\"The condition has been satisfied\")"
   ]
  },
  {
   "cell_type": "code",
   "execution_count": 45,
   "id": "d28adff0-23b5-4673-a795-e76b61b9d7ea",
   "metadata": {},
   "outputs": [
    {
     "name": "stdout",
     "output_type": "stream",
     "text": [
      "Both conditions are correct\n"
     ]
    }
   ],
   "source": [
    "x = 10\n",
    "y = 25\n",
    "\n",
    "if x > 3 and y > 13:\n",
    "    print(\"Both conditions are correct\")\n",
    "\n",
    "if x <= 3 or y <= 13:\n",
    "    print(\"At least one of the conditions is false\")\n"
   ]
  },
  {
   "cell_type": "code",
   "execution_count": 46,
   "id": "1e2c8c32-4641-45a2-8b00-61a47eb531a7",
   "metadata": {},
   "outputs": [
    {
     "name": "stdout",
     "output_type": "stream",
     "text": [
      "A busy day\n"
     ]
    }
   ],
   "source": [
    "x = 150 \n",
    "\n",
    "if x > 100:\n",
    "    print(\"A busy day\")\n",
    "else:\n",
    "    print(\"A calm day\")\n"
   ]
  },
  {
   "cell_type": "code",
   "execution_count": 47,
   "id": "6cbab95e-10b2-4d05-82e6-4bb4ce102d12",
   "metadata": {},
   "outputs": [
    {
     "name": "stdout",
     "output_type": "stream",
     "text": [
      "Average\n"
     ]
    }
   ],
   "source": [
    "x = 150 \n",
    "\n",
    "if x > 200:\n",
    "    print(\"Big\")\n",
    "elif x > 100 and x <= 200:\n",
    "    print(\"Average\")\n",
    "else:\n",
    "    print(\"Small\")\n"
   ]
  },
  {
   "cell_type": "code",
   "execution_count": 48,
   "id": "92850926-aaa1-4b9b-bbb3-043e2df54ac0",
   "metadata": {},
   "outputs": [
    {
     "name": "stdout",
     "output_type": "stream",
     "text": [
      "Average\n"
     ]
    }
   ],
   "source": [
    "x = 150  \n",
    "\n",
    "if x > 200:\n",
    "    print(\"Big\")\n",
    "elif x > 100 and x <= 200:\n",
    "    print(\"Average\")\n",
    "elif x >= 0 and x <= 100:\n",
    "    print(\"Small\")\n",
    "else:\n",
    "    print(\"Negative\")\n"
   ]
  },
  {
   "cell_type": "code",
   "execution_count": 49,
   "id": "0eceaee4-da1a-4106-90b2-3b4fc8119735",
   "metadata": {},
   "outputs": [],
   "source": [
    "def multiplication_by_2(x):\n",
    "    return x * 2\n"
   ]
  },
  {
   "cell_type": "code",
   "execution_count": 50,
   "id": "02e5dc0a-e90c-43d4-8410-316d08aa3b93",
   "metadata": {},
   "outputs": [],
   "source": [
    "def division_by_2(x):\n",
    "    return x / 2.0\n"
   ]
  },
  {
   "cell_type": "code",
   "execution_count": 51,
   "id": "e9794e68-b83d-47de-85fe-67ccad12f13d",
   "metadata": {},
   "outputs": [
    {
     "name": "stdout",
     "output_type": "stream",
     "text": [
      "10\n",
      "2.5\n"
     ]
    }
   ],
   "source": [
    "print(multiplication_by_2(5))\n",
    "print(division_by_2(5))\n"
   ]
  },
  {
   "cell_type": "code",
   "execution_count": 52,
   "id": "52cb7d4d-d5d0-4b85-97c1-d137b5ad8989",
   "metadata": {},
   "outputs": [],
   "source": [
    "def exponentiation_exp_2(x):\n",
    "    result = x ** 2\n",
    "    print(f\"{x} Raised to the power of 2:\")\n",
    "    return result\n"
   ]
  },
  {
   "cell_type": "code",
   "execution_count": 53,
   "id": "44f3f7fd-5075-4a22-b1b8-0ad94b46c9ce",
   "metadata": {},
   "outputs": [
    {
     "name": "stdout",
     "output_type": "stream",
     "text": [
      "3 Raised to the power of 2:\n",
      "9\n"
     ]
    }
   ],
   "source": [
    "print(exponentiation_exp_2(3))\n"
   ]
  },
  {
   "cell_type": "code",
   "execution_count": 54,
   "id": "b25215e4-78ec-43ee-9171-64d76fcdf3a9",
   "metadata": {},
   "outputs": [],
   "source": [
    "def plus_five(x):\n",
    "    return x + 5\n",
    "\n",
    "def m_by_3(x):\n",
    "    return plus_five(x) * 3\n"
   ]
  },
  {
   "cell_type": "code",
   "execution_count": 55,
   "id": "7244a8f6-9888-4d27-95ee-ddb5c6de4193",
   "metadata": {},
   "outputs": [
    {
     "name": "stdout",
     "output_type": "stream",
     "text": [
      "30\n"
     ]
    }
   ],
   "source": [
    "print(m_by_3(5))\n"
   ]
  },
  {
   "cell_type": "code",
   "execution_count": 57,
   "id": "7c95b33e-b0d1-43b5-afed-9c995213248a",
   "metadata": {},
   "outputs": [],
   "source": [
    "def compare_the_two(a, b):\n",
    "    if a > b:\n",
    "        print(\"Greater\")\n",
    "    elif a < b:\n",
    "        print(\"Less\")\n",
    "    else:\n",
    "        print(\"Equal\")\n"
   ]
  },
  {
   "cell_type": "code",
   "execution_count": 69,
   "id": "30b282c9-b9a1-470c-aeaa-f9ab1ec7c85b",
   "metadata": {},
   "outputs": [
    {
     "name": "stdout",
     "output_type": "stream",
     "text": [
      "890\n"
     ]
    }
   ],
   "source": [
    "max_value = max(25, 65, 890, 15)\n",
    "print(max_value)"
   ]
  },
  {
   "cell_type": "code",
   "execution_count": 70,
   "id": "444119e6-2d11-443f-b400-84a073cb7964",
   "metadata": {},
   "outputs": [
    {
     "name": "stdout",
     "output_type": "stream",
     "text": [
      "15\n"
     ]
    }
   ],
   "source": [
    "min_value = min(25, 65, 890, 15)\n",
    "print(min_value)"
   ]
  },
  {
   "cell_type": "code",
   "execution_count": 71,
   "id": "356e5cea-0d11-418f-b73e-8532f4eeb90f",
   "metadata": {},
   "outputs": [
    {
     "name": "stdout",
     "output_type": "stream",
     "text": [
      "100\n"
     ]
    }
   ],
   "source": [
    "absolute_value = abs(-100)\n",
    "print(absolute_value)"
   ]
  },
  {
   "cell_type": "code",
   "execution_count": 72,
   "id": "be9c2f02-d2fd-4766-9394-cfd94adede93",
   "metadata": {},
   "outputs": [
    {
     "name": "stdout",
     "output_type": "stream",
     "text": [
      "56\n"
     ]
    }
   ],
   "source": [
    "rounded_value = round(55.5)\n",
    "print(rounded_value)"
   ]
  },
  {
   "cell_type": "code",
   "execution_count": 73,
   "id": "747873d3-3008-449b-a819-e109f5b69bc4",
   "metadata": {},
   "outputs": [
    {
     "name": "stdout",
     "output_type": "stream",
     "text": [
      "35.568\n"
     ]
    }
   ],
   "source": [
    "rounded_to_three_digits = round(35.56789, 3)\n",
    "print(rounded_to_three_digits)"
   ]
  },
  {
   "cell_type": "code",
   "execution_count": 74,
   "id": "9dc075eb-eedc-4f69-9536-6cc9945b6697",
   "metadata": {},
   "outputs": [
    {
     "name": "stdout",
     "output_type": "stream",
     "text": [
      "60\n"
     ]
    }
   ],
   "source": [
    "Numbers = [10, 20, 30]  # Example list\n",
    "sum_of_elements = sum(Numbers)\n",
    "print(sum_of_elements)"
   ]
  },
  {
   "cell_type": "code",
   "execution_count": 75,
   "id": "391d1066-9028-4f5c-ae2f-8053f5ab36b1",
   "metadata": {},
   "outputs": [
    {
     "name": "stdout",
     "output_type": "stream",
     "text": [
      "1000\n"
     ]
    }
   ],
   "source": [
    "power_result = pow(10, 3)\n",
    "print(power_result)"
   ]
  },
  {
   "cell_type": "code",
   "execution_count": 76,
   "id": "f238bdad-3913-427c-b203-9a219346978b",
   "metadata": {},
   "outputs": [
    {
     "name": "stdout",
     "output_type": "stream",
     "text": [
      "8\n"
     ]
    }
   ],
   "source": [
    "num_characters = len(\"Elephant\")\n",
    "print(num_characters)"
   ]
  },
  {
   "cell_type": "code",
   "execution_count": 66,
   "id": "e33efb89-d4e4-4a2c-9856-e0485ff30c6b",
   "metadata": {},
   "outputs": [],
   "source": [
    "def distance_from_zero(x):\n",
    "    if type(x) == int or type(x) == float:\n",
    "        return abs(x)\n",
    "    else:\n",
    "        print(\"Not possible\")\n"
   ]
  },
  {
   "cell_type": "code",
   "execution_count": 67,
   "id": "70835d6f-2bfd-495f-a0a2-38eab2d4e4a4",
   "metadata": {},
   "outputs": [
    {
     "name": "stdout",
     "output_type": "stream",
     "text": [
      "10\n",
      "Not possible\n",
      "None\n"
     ]
    }
   ],
   "source": [
    "print(distance_from_zero(-10))\n",
    "print(distance_from_zero(\"cat\"))"
   ]
  },
  {
   "cell_type": "code",
   "execution_count": 77,
   "id": "1b271169-cc7b-44ce-9121-59fb60d54092",
   "metadata": {},
   "outputs": [
    {
     "name": "stdout",
     "output_type": "stream",
     "text": [
      "[10, 25, 40, 50]\n"
     ]
    }
   ],
   "source": [
    "Numbers = [10, 25, 40, 50]\n",
    "print(Numbers)"
   ]
  },
  {
   "cell_type": "code",
   "execution_count": 78,
   "id": "32d56610-ebc6-43e6-b0ca-9b914866df91",
   "metadata": {},
   "outputs": [
    {
     "name": "stdout",
     "output_type": "stream",
     "text": [
      "40\n"
     ]
    }
   ],
   "source": [
    "print(Numbers[2])"
   ]
  },
  {
   "cell_type": "code",
   "execution_count": 79,
   "id": "38bdc2b7-f2e2-47b5-9fc5-4429d3b6cee0",
   "metadata": {},
   "outputs": [
    {
     "name": "stdout",
     "output_type": "stream",
     "text": [
      "10\n"
     ]
    }
   ],
   "source": [
    "print(Numbers[0])\n"
   ]
  },
  {
   "cell_type": "code",
   "execution_count": 80,
   "id": "973c3e02-4005-4119-a09f-7cfd6ea5be8e",
   "metadata": {},
   "outputs": [
    {
     "name": "stdout",
     "output_type": "stream",
     "text": [
      "25\n"
     ]
    }
   ],
   "source": [
    "print(Numbers[-3])\n"
   ]
  },
  {
   "cell_type": "code",
   "execution_count": 81,
   "id": "f6abb0ae-e1a5-45a8-9695-8ba9297d1a66",
   "metadata": {},
   "outputs": [],
   "source": [
    "Numbers[0] = 15\n"
   ]
  },
  {
   "cell_type": "code",
   "execution_count": 82,
   "id": "bc6bbee2-5c47-415c-bfae-b4f0da54da6a",
   "metadata": {},
   "outputs": [],
   "source": [
    "Numbers.remove(25)"
   ]
  },
  {
   "cell_type": "code",
   "execution_count": 83,
   "id": "f68d1164-5e51-4cfe-bdb0-a1167fe6f244",
   "metadata": {},
   "outputs": [
    {
     "name": "stdout",
     "output_type": "stream",
     "text": [
      "[15, 40, 50]\n"
     ]
    }
   ],
   "source": [
    "print(Numbers)"
   ]
  },
  {
   "cell_type": "code",
   "execution_count": 84,
   "id": "9cdd2fcb-072b-4ab7-a86d-c00bc13f6b21",
   "metadata": {},
   "outputs": [],
   "source": [
    "Numbers.append(100)"
   ]
  },
  {
   "cell_type": "code",
   "execution_count": 85,
   "id": "fb32254a-c6a2-490c-ae5c-58951e55ef62",
   "metadata": {},
   "outputs": [],
   "source": [
    "Numbers.extend([115, 140])\n"
   ]
  },
  {
   "cell_type": "code",
   "execution_count": 86,
   "id": "f888f37a-ca15-4956-b793-f72227bd81ce",
   "metadata": {},
   "outputs": [
    {
     "name": "stdout",
     "output_type": "stream",
     "text": [
      "The fourth element of the Numbers list is 100\n"
     ]
    }
   ],
   "source": [
    "print(\"The fourth element of the Numbers list is\", Numbers[3],)\n"
   ]
  },
  {
   "cell_type": "code",
   "execution_count": 87,
   "id": "1f9f8339-5ea2-4856-ab0f-bba1cbbbd99f",
   "metadata": {},
   "outputs": [
    {
     "data": {
      "text/plain": [
       "[115, 140]"
      ]
     },
     "execution_count": 87,
     "metadata": {},
     "output_type": "execute_result"
    }
   ],
   "source": [
    "Numbers[4:6]\n"
   ]
  },
  {
   "cell_type": "code",
   "execution_count": 88,
   "id": "faec517f-59ef-4851-b89f-2e6a5f2dc5c9",
   "metadata": {},
   "outputs": [
    {
     "data": {
      "text/plain": [
       "[15, 40, 50, 100]"
      ]
     },
     "execution_count": 88,
     "metadata": {},
     "output_type": "execute_result"
    }
   ],
   "source": [
    "Numbers[:4]\n"
   ]
  },
  {
   "cell_type": "code",
   "execution_count": 89,
   "id": "d5d73b17-c3df-425e-98d8-8dc4dcef696e",
   "metadata": {},
   "outputs": [
    {
     "data": {
      "text/plain": [
       "[50, 100, 115, 140]"
      ]
     },
     "execution_count": 89,
     "metadata": {},
     "output_type": "execute_result"
    }
   ],
   "source": [
    "Numbers[2:]\n"
   ]
  },
  {
   "cell_type": "code",
   "execution_count": 90,
   "id": "7c95267d-8694-42a8-837f-c57b08c1133c",
   "metadata": {},
   "outputs": [
    {
     "data": {
      "text/plain": [
       "[50, 100, 115, 140]"
      ]
     },
     "execution_count": 90,
     "metadata": {},
     "output_type": "execute_result"
    }
   ],
   "source": [
    "Numbers[-4:]\n"
   ]
  },
  {
   "cell_type": "code",
   "execution_count": 91,
   "id": "fbeaa597-c9d9-4c2d-8837-87c8842f2bb5",
   "metadata": {},
   "outputs": [
    {
     "data": {
      "text/plain": [
       "0"
      ]
     },
     "execution_count": 91,
     "metadata": {},
     "output_type": "execute_result"
    }
   ],
   "source": [
    "Numbers.index(15)\n"
   ]
  },
  {
   "cell_type": "code",
   "execution_count": 92,
   "id": "9c9b2d07-d6f9-4392-b0e5-03fbc11492f2",
   "metadata": {},
   "outputs": [],
   "source": [
    "Two_Numbers = [1, 2]\n",
    "All_Numbers = Two_Numbers + Numbers\n"
   ]
  },
  {
   "cell_type": "code",
   "execution_count": 93,
   "id": "60762d2a-901b-453b-882d-42468aea7a37",
   "metadata": {},
   "outputs": [],
   "source": [
    "Numbers.sort(reverse=True)\n"
   ]
  },
  {
   "cell_type": "code",
   "execution_count": 94,
   "id": "da8564eb-a495-4034-89a6-cffc8de22e5a",
   "metadata": {},
   "outputs": [
    {
     "data": {
      "text/plain": [
       "[140, 115, 100, 50, 40, 15]"
      ]
     },
     "execution_count": 94,
     "metadata": {},
     "output_type": "execute_result"
    }
   ],
   "source": [
    "Numbers"
   ]
  },
  {
   "cell_type": "code",
   "execution_count": 95,
   "id": "0cd49032-92b5-4790-a5b5-97791e319a77",
   "metadata": {},
   "outputs": [],
   "source": [
    "Cars = (\"BMW\", \"Dodge\", \"Ford\")\n"
   ]
  },
  {
   "cell_type": "code",
   "execution_count": 96,
   "id": "d193c5c3-228f-43b9-a4d8-5c0ab64f10da",
   "metadata": {},
   "outputs": [
    {
     "name": "stdout",
     "output_type": "stream",
     "text": [
      "('BMW', 'Dodge', 'Ford')\n"
     ]
    }
   ],
   "source": [
    "print(Cars)"
   ]
  },
  {
   "cell_type": "code",
   "execution_count": 97,
   "id": "8675b7d3-3ee4-4445-a2e8-43fb3b30a6bc",
   "metadata": {},
   "outputs": [
    {
     "data": {
      "text/plain": [
       "'Dodge'"
      ]
     },
     "execution_count": 97,
     "metadata": {},
     "output_type": "execute_result"
    }
   ],
   "source": [
    "Cars[1]\n"
   ]
  },
  {
   "cell_type": "code",
   "execution_count": 98,
   "id": "c7467d0c-fa06-4729-a978-4034cb2dd6e5",
   "metadata": {},
   "outputs": [
    {
     "name": "stdout",
     "output_type": "stream",
     "text": [
      "John\n",
      "30\n"
     ]
    }
   ],
   "source": [
    "name, age = (\"John\", 30)\n",
    "print(name)\n",
    "print(age)\n"
   ]
  },
  {
   "cell_type": "code",
   "execution_count": 99,
   "id": "8f8441a2-eaa5-42be-907f-015f1e19bd14",
   "metadata": {},
   "outputs": [
    {
     "data": {
      "text/plain": [
       "(20, 24)"
      ]
     },
     "execution_count": 99,
     "metadata": {},
     "output_type": "execute_result"
    }
   ],
   "source": [
    "def rectangle_info(length, width):\n",
    "    area = length * width\n",
    "    perimeter = 2 * (length + width)\n",
    "    return area, perimeter\n",
    "\n",
    "rectangle_info(2, 10)\n"
   ]
  },
  {
   "cell_type": "code",
   "execution_count": 100,
   "id": "7affb8c1-ab28-45ad-9050-3e6786d3d37f",
   "metadata": {},
   "outputs": [
    {
     "data": {
      "text/plain": [
       "'Fries'"
      ]
     },
     "execution_count": 100,
     "metadata": {},
     "output_type": "execute_result"
    }
   ],
   "source": [
    "Menu = {'meal_1': 'Spaghetti', 'meal_2': 'Fries', 'meal_3': 'Hamburger', 'meal_4': 'Lasagna'}\n",
    "Menu['meal_2']\n"
   ]
  },
  {
   "cell_type": "code",
   "execution_count": 101,
   "id": "5d42ee18-c730-4c00-af97-4c669cd08f1b",
   "metadata": {},
   "outputs": [],
   "source": [
    "Menu['meal_5'] = 'Soup'\n"
   ]
  },
  {
   "cell_type": "code",
   "execution_count": 102,
   "id": "9a197ee1-acc9-4469-a12b-7718de43e98d",
   "metadata": {},
   "outputs": [],
   "source": [
    "Menu['meal_3'] = 'Cheeseburger'\n"
   ]
  },
  {
   "cell_type": "code",
   "execution_count": 103,
   "id": "676e0c34-83e1-4adb-a2ad-6034b3a6a54c",
   "metadata": {},
   "outputs": [],
   "source": [
    "Desserts = ['Ice Cream', 'Cake']\n",
    "Menu['meal_6'] = Desserts\n"
   ]
  },
  {
   "cell_type": "code",
   "execution_count": 104,
   "id": "e7914667-415d-44df-9920-db2ad03d0613",
   "metadata": {},
   "outputs": [],
   "source": [
    "Price_list = {}\n",
    "Price_list['Spaghetti'] = 10\n",
    "Price_list['Fries'] = 5\n",
    "Price_list['Cheeseburger'] = 8\n",
    "Price_list['Lasagna'] = 12\n",
    "Price_list['Soup'] = 5\n"
   ]
  },
  {
   "cell_type": "code",
   "execution_count": 105,
   "id": "f33cb183-5d21-4103-b412-11924caa46bf",
   "metadata": {},
   "outputs": [
    {
     "name": "stdout",
     "output_type": "stream",
     "text": [
      "10\n"
     ]
    }
   ],
   "source": [
    "print(Price_list.get('Spaghetti'))\n"
   ]
  },
  {
   "cell_type": "code",
   "execution_count": 106,
   "id": "348b376c-6ca4-40c2-a56e-8fe3229b8c61",
   "metadata": {},
   "outputs": [
    {
     "name": "stdout",
     "output_type": "stream",
     "text": [
      "1\n",
      "2\n",
      "3\n",
      "4\n",
      "5\n"
     ]
    }
   ],
   "source": [
    "digits = [1, 2, 3, 4, 5]\n",
    "for digit in digits:\n",
    "    print(digit)\n"
   ]
  },
  {
   "cell_type": "code",
   "execution_count": 107,
   "id": "c2f4a35c-d1fc-4a8e-b82a-13d86494df8c",
   "metadata": {},
   "outputs": [
    {
     "name": "stdout",
     "output_type": "stream",
     "text": [
      "1 2 3 4 5 "
     ]
    }
   ],
   "source": [
    "digits = [1, 2, 3, 4, 5]\n",
    "for digit in digits:\n",
    "    print(digit, end=\" \")\n"
   ]
  },
  {
   "cell_type": "code",
   "execution_count": 108,
   "id": "cc9a7e55-ae70-47a8-a011-de9fe169db1a",
   "metadata": {},
   "outputs": [
    {
     "name": "stdout",
     "output_type": "stream",
     "text": [
      "1 3 5 7 9 11 13 15 17 19 21 23 25 27 29 "
     ]
    }
   ],
   "source": [
    "num = 1\n",
    "while num <= 30:\n",
    "    if num % 2 != 0:\n",
    "        print(num, end=\" \")\n",
    "    num += 1\n"
   ]
  },
  {
   "cell_type": "code",
   "execution_count": 109,
   "id": "00ef6b9a-fa06-4f82-91f9-f61469dc3090",
   "metadata": {},
   "outputs": [],
   "source": [
    "list_1_to_10 = list(range(1, 11))"
   ]
  },
  {
   "cell_type": "code",
   "execution_count": 110,
   "id": "e2a14bf7-2f9e-450d-ac5b-8c8346254299",
   "metadata": {},
   "outputs": [
    {
     "name": "stdout",
     "output_type": "stream",
     "text": [
      "[1, 2, 3, 4, 5, 6, 7, 8, 9, 10]\n"
     ]
    }
   ],
   "source": [
    "print(list_1_to_10)"
   ]
  },
  {
   "cell_type": "code",
   "execution_count": 111,
   "id": "d0e6fca6-1318-4600-b88e-3efcf8c5bd5f",
   "metadata": {},
   "outputs": [],
   "source": [
    "list_0_to_19 = list(range(0, 20))"
   ]
  },
  {
   "cell_type": "code",
   "execution_count": 112,
   "id": "5de4102d-303c-4012-b20e-2a223c491694",
   "metadata": {},
   "outputs": [],
   "source": [
    "list_even_0_to_30 = list(range(0, 31, 2))"
   ]
  },
  {
   "cell_type": "code",
   "execution_count": 113,
   "id": "d3996d0e-ffd4-446e-9f62-5e4fe875a35f",
   "metadata": {},
   "outputs": [
    {
     "name": "stdout",
     "output_type": "stream",
     "text": [
      "[0, 1, 2, 3, 4, 5, 6, 7, 8, 9, 10, 11, 12, 13, 14, 15, 16, 17, 18, 19]\n",
      "[0, 2, 4, 6, 8, 10, 12, 14, 16, 18, 20, 22, 24, 26, 28, 30]\n"
     ]
    }
   ],
   "source": [
    "print(list_0_to_19)\n",
    "print(list_even_0_to_30)"
   ]
  },
  {
   "cell_type": "code",
   "execution_count": 114,
   "id": "4d8d095e-928e-4a1a-843e-059a8ab973d8",
   "metadata": {},
   "outputs": [
    {
     "name": "stdout",
     "output_type": "stream",
     "text": [
      "2\n",
      "4\n",
      "6\n",
      "8\n",
      "10\n",
      "12\n",
      "14\n",
      "16\n",
      "18\n",
      "20\n"
     ]
    }
   ],
   "source": [
    "for num in range(1,11):\n",
    "    print(num *2)"
   ]
  },
  {
   "cell_type": "code",
   "execution_count": 116,
   "id": "3398279d-fb4c-4e74-a646-ee8e5d1fac43",
   "metadata": {},
   "outputs": [
    {
     "name": "stdout",
     "output_type": "stream",
     "text": [
      "1\n",
      "Even\n",
      "3\n",
      "Even\n",
      "5\n",
      "Even\n",
      "7\n",
      "Even\n",
      "9\n",
      "Even\n",
      "11\n",
      "Even\n",
      "13\n",
      "Even\n",
      "15\n",
      "Even\n",
      "17\n",
      "Even\n",
      "19\n",
      "Even\n",
      "21\n",
      "Even\n",
      "23\n",
      "Even\n",
      "25\n",
      "Even\n",
      "27\n",
      "Even\n",
      "29\n",
      "Even\n"
     ]
    }
   ],
   "source": [
    "for num in range(1,31):\n",
    "    if num % 2 ==0:\n",
    "        print(\"Even\")\n",
    "    else:\n",
    "        print(num)"
   ]
  },
  {
   "cell_type": "code",
   "execution_count": 117,
   "id": "fa2b306b-f8e2-42b6-8d8a-828d97ead21a",
   "metadata": {},
   "outputs": [
    {
     "name": "stdout",
     "output_type": "stream",
     "text": [
      "20\n",
      "50\n",
      "80\n",
      "120\n",
      "190\n",
      "250\n"
     ]
    }
   ],
   "source": [
    "num=[2,5,8,12,19,25]\n",
    "for n in num:\n",
    "    print(n*10)"
   ]
  },
  {
   "cell_type": "code",
   "execution_count": 118,
   "id": "4ae0ab00-f2d1-45e9-b89f-339c91ac72b3",
   "metadata": {},
   "outputs": [
    {
     "name": "stdout",
     "output_type": "stream",
     "text": [
      "[20, 50, 80, 120, 190, 250]\n"
     ]
    }
   ],
   "source": [
    "print([n* 10 for n in num])"
   ]
  },
  {
   "cell_type": "code",
   "execution_count": 119,
   "id": "f03c518d-0bc9-4a7f-acd6-0dc16ea480ce",
   "metadata": {},
   "outputs": [
    {
     "name": "stdout",
     "output_type": "stream",
     "text": [
      "4\n"
     ]
    }
   ],
   "source": [
    "nums = [10, 22, 18, 25, 9, 30, 15]\n",
    "\n",
    "def count(nums):\n",
    "    count_lower_than_20 = 0\n",
    "    i = 0\n",
    "    while i < len(nums):\n",
    "        if nums[i] < 20:\n",
    "            count_lower_than_20 += 1\n",
    "        i += 1\n",
    "    return count_lower_than_20\n",
    "\n",
    "print(count(nums))\n"
   ]
  },
  {
   "cell_type": "code",
   "execution_count": 120,
   "id": "6b708fc5-6a61-4d16-bcf3-b06bab847542",
   "metadata": {},
   "outputs": [],
   "source": [
    "prices = {\n",
    "    \"apple\": 4,\n",
    "    \"banana\": 2,\n",
    "    \"orange\": 5,\n",
    "    \"grapes\": 6,\n",
    "    \"mango\": 3\n",
    "}\n",
    "\n",
    "quantity = {\n",
    "    \"apple\": 5,\n",
    "    \"banana\": 10,\n",
    "    \"orange\": 2,\n",
    "    \"grapes\": 3,\n",
    "    \"mango\": 8\n",
    "}"
   ]
  },
  {
   "cell_type": "code",
   "execution_count": 121,
   "id": "9f5383b9-851b-4837-8114-155711e4a9db",
   "metadata": {},
   "outputs": [
    {
     "name": "stdout",
     "output_type": "stream",
     "text": [
      "28\n"
     ]
    }
   ],
   "source": [
    "total_spent_5_or_more = 0\n",
    "for product, price in prices.items():\n",
    "    if price >= 5:\n",
    "        total_spent_5_or_more += price * quantity[product]\n",
    "\n",
    "print(total_spent_5_or_more)"
   ]
  },
  {
   "cell_type": "code",
   "execution_count": 122,
   "id": "93e8cd3c-1920-4002-ba99-c87c9baa6fbb",
   "metadata": {},
   "outputs": [
    {
     "name": "stdout",
     "output_type": "stream",
     "text": [
      "64\n"
     ]
    }
   ],
   "source": [
    "total_spent_less_than_5 = 0\n",
    "for product, price in prices.items():\n",
    "    if price < 5:\n",
    "        total_spent_less_than_5 += price * quantity[product]\n",
    "\n",
    "print(total_spent_less_than_5)"
   ]
  },
  {
   "cell_type": "code",
   "execution_count": null,
   "id": "7c2723f5-0dd7-459d-8320-2a37ee15794b",
   "metadata": {},
   "outputs": [],
   "source": []
  }
 ],
 "metadata": {
  "kernelspec": {
   "display_name": "Python 3 (ipykernel)",
   "language": "python",
   "name": "python3"
  },
  "language_info": {
   "codemirror_mode": {
    "name": "ipython",
    "version": 3
   },
   "file_extension": ".py",
   "mimetype": "text/x-python",
   "name": "python",
   "nbconvert_exporter": "python",
   "pygments_lexer": "ipython3",
   "version": "3.12.6"
  }
 },
 "nbformat": 4,
 "nbformat_minor": 5
}
